{
 "cells": [
  {
   "cell_type": "markdown",
   "metadata": {},
   "source": [
    "# NumPy arrays\n",
    "NumPy arrays, *ndarray*, are more efficient than Python native lists when it comes to numerical operations. \n",
    "Although *ndarrays* allows various types as elements, but, remember, every element has to be the same type.\n",
    "The calculations are over entire NumPy arrays.\n",
    "\n",
    "## Create arrays\n",
    "Using numpy.arange() or numpy.array()"
   ]
  },
  {
   "cell_type": "code",
   "execution_count": 25,
   "metadata": {
    "collapsed": false
   },
   "outputs": [
    {
     "name": "stdout",
     "output_type": "stream",
     "text": [
      "object type of a1 is  <class 'numpy.ndarray'> and it's content is  [0 1 2 3 4]\n",
      "object type of a2 is  <class 'numpy.ndarray'> and it's content is  [0 1 2 3 4]\n",
      "content of a3 is  [[0 1 2 3]\n",
      " [0 1 4 9]] ,and a3[1][3] uses to access that element equals to  9\n"
     ]
    },
    {
     "data": {
      "text/plain": [
       "\"The outputs would be:\\nobject type of a1 is  <class 'numpy.ndarray'> and it's content is  [0 1 2 3 4]\\nobject type of a2 is  <class 'numpy.ndarray'> and it's content is  [0 1 2 3 4]\\ncontent of a3 is  [[0 1 2 3]\\n [0 1 4 9]] ,and a3[1][3] uses to access that element equals to  9\\n\""
      ]
     },
     "execution_count": 25,
     "metadata": {},
     "output_type": "execute_result"
    }
   ],
   "source": [
    "import numpy as np\n",
    "a1=np.arange(5) # arange() is similar like range(), but generates ndraary instead of list\n",
    "a2=np.array([0,1,2,3,4])\n",
    "a3=np.array([[0,1,2,3],[0,1,4,9]]) # Multi-dimentions is avialable through applying the function array()\n",
    "                                   # with list of list or list of ndarray.\n",
    "\n",
    "print('object type of a1 is ', type(a1), \"and it's content is \",a1)\n",
    "print('object type of a2 is ', type(a2), \"and it's content is \",a2)\n",
    "print('content of a3 is ',a3,',and a3[1][3] uses to access that element equals to ', a3[1][3])\n",
    "\n",
    "'''The outputs would be:\n",
    "object type of a1 is  <class 'numpy.ndarray'> and it's content is  [0 1 2 3 4]\n",
    "object type of a2 is  <class 'numpy.ndarray'> and it's content is  [0 1 2 3 4]\n",
    "content of a3 is  [[0 1 2 3]\n",
    " [0 1 4 9]] ,and a3[1][3] uses to access that element equals to  9\n",
    "'''"
   ]
  },
  {
   "cell_type": "markdown",
   "metadata": {},
   "source": [
    "## Information of arrays\n",
    "The following classes provide some properties for related information of arrays:\n",
    "- dtype\n",
    "- ndim\n",
    "- shape\n",
    "- size"
   ]
  },
  {
   "cell_type": "code",
   "execution_count": 55,
   "metadata": {
    "collapsed": false
   },
   "outputs": [
    {
     "data": {
      "text/plain": [
       "2"
      ]
     },
     "execution_count": 55,
     "metadata": {},
     "output_type": "execute_result"
    }
   ],
   "source": [
    "a3=np.array([[0,1,2,3,4],[0,1,4,9,16]])\n",
    "a3.ndim"
   ]
  },
  {
   "cell_type": "code",
   "execution_count": null,
   "metadata": {
    "collapsed": true
   },
   "outputs": [],
   "source": []
  }
 ],
 "metadata": {
  "kernelspec": {
   "display_name": "Python 3",
   "language": "python",
   "name": "python3"
  },
  "language_info": {
   "codemirror_mode": {
    "name": "ipython",
    "version": 3
   },
   "file_extension": ".py",
   "mimetype": "text/x-python",
   "name": "python",
   "nbconvert_exporter": "python",
   "pygments_lexer": "ipython3",
   "version": "3.5.3"
  }
 },
 "nbformat": 4,
 "nbformat_minor": 0
}
