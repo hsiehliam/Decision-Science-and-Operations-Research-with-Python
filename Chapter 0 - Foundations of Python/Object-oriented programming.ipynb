{
 "cells": [
  {
   "cell_type": "markdown",
   "metadata": {},
   "source": [
    "Since all these articles are basically notes for myself, a detailed explaination for OOP in Python is not gonna happen. Therefore, I assume you're all have some experience in OOP with the other languages, and this brief note is written to show how to create a class in Python. Some examples of the three key principles, inheritance, encapsulation, and polymorphism, are also provided. "
   ]
  },
  {
   "cell_type": "markdown",
   "metadata": {},
   "source": [
    "## Classes and objects in Python\n",
    "In short, object is a collection of variables and functions and class is just like a template of object; so, we can create many objects from a class. That is why an object is also called an instance of a class. The basic definition for a class is:\n",
    "\n",
    "    class NewClass:\n",
    "        '''Docstring for this class'''\n",
    "        property_name=property_value\n",
    "        \n",
    "        def __init__(self,self_parameter):\n",
    "            self.self_parameter=self_parameter_value\n",
    "        \n",
    "        def class_function(parameter):\n",
    "            statement(s)\n",
    "\n",
    "\n",
    "All classes have a built-in function called \\_\\_init\\_\\_(), which is always executed when the class is being initiated. Therefore, we ususally define this function to assisgn values for properties and execute those necessary operations when objects are being created. Functions for a class can be mutiple."
   ]
  },
  {
   "cell_type": "code",
   "execution_count": 5,
   "metadata": {},
   "outputs": [
    {
     "name": "stdout",
     "output_type": "stream",
     "text": [
      "Ernie is  120 cm tall with  45 kg, so that Erine's BMI:  31.25\n"
     ]
    }
   ],
   "source": [
    "class employee:\n",
    "    '''Store basic data of an employee and provide BMI calculation'''\n",
    "    degree=2\n",
    "    \n",
    "    def __init__(self,h, w):\n",
    "        self.height=h\n",
    "        self.weight=w\n",
    "    \n",
    "    def BMI(self):\n",
    "        return self.weight/((self.height/100)**self.degree)\n",
    "\n",
    "Ernie=employee(120, 45)\n",
    "print(\"Ernie is \", Ernie.height, \"cm tall with \",  Ernie.weight, \"kg, so that Erine's BMI: \", Ernie.BMI())"
   ]
  },
  {
   "cell_type": "markdown",
   "metadata": {},
   "source": [
    "## Reference\n",
    "https://www.programiz.com/python-programming/object-oriented-programming\n",
    "\n",
    "https://www.ycc.idv.tw/introduction-object-oriented-programming_2.html"
   ]
  },
  {
   "cell_type": "code",
   "execution_count": null,
   "metadata": {},
   "outputs": [],
   "source": []
  }
 ],
 "metadata": {
  "kernelspec": {
   "display_name": "Python 3",
   "language": "python",
   "name": "python3"
  },
  "language_info": {
   "codemirror_mode": {
    "name": "ipython",
    "version": 3
   },
   "file_extension": ".py",
   "mimetype": "text/x-python",
   "name": "python",
   "nbconvert_exporter": "python",
   "pygments_lexer": "ipython3",
   "version": "3.5.5"
  }
 },
 "nbformat": 4,
 "nbformat_minor": 2
}
