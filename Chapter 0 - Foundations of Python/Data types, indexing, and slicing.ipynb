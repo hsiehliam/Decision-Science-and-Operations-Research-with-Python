{
 "cells": [
  {
   "cell_type": "markdown",
   "metadata": {},
   "source": [
    "List of common data types in Python:\n",
    "\n",
    "* bool\n",
    "* int\n",
    "* float\n",
    "* string\n",
    "* list\n",
    "* tuple\n",
    "* dict\n",
    "* range\n",
    "* set"
   ]
  },
  {
   "cell_type": "markdown",
   "metadata": {},
   "source": [
    "# bool\n",
    "The value of a bool class is either True or False"
   ]
  },
  {
   "cell_type": "code",
   "execution_count": 16,
   "metadata": {},
   "outputs": [
    {
     "name": "stdout",
     "output_type": "stream",
     "text": [
      "True\n",
      "<class 'bool'>\n"
     ]
    }
   ],
   "source": [
    "isGraduated=True\n",
    "print(isGraduated)\n",
    "print(type(isGraduated)) #<class 'bool'>\n"
   ]
  },
  {
   "cell_type": "markdown",
   "metadata": {},
   "source": [
    "# int, float, complex\n",
    "These are three distinct numeric types in Python: intergers,floating point numbers, and complex numbers."
   ]
  },
  {
   "cell_type": "code",
   "execution_count": 17,
   "metadata": {
    "scrolled": true
   },
   "outputs": [
    {
     "name": "stdout",
     "output_type": "stream",
     "text": [
      "2\n",
      "<class 'int'>\n",
      "2.0\n",
      "<class 'float'>\n",
      "(2+1j)\n",
      "<class 'complex'>\n"
     ]
    }
   ],
   "source": [
    "i=2\n",
    "print(i)\n",
    "print(type(i))\n",
    "\n",
    "f=2.0\n",
    "print(f)\n",
    "print(type(f))\n",
    "\n",
    "c=2+1j\n",
    "print(c)\n",
    "print(type(c))"
   ]
  },
  {
   "cell_type": "markdown",
   "metadata": {
    "collapsed": true
   },
   "source": [
    "All numeric types (except complex) support the following operations:\n",
    "\n",
    "<table border=\"1\" class=\"docutils\">\n",
    "<colgroup>\n",
    "<col width=\"25%\" />\n",
    "<col width=\"40%\" />\n",
    "<col width=\"11%\" />\n",
    "<col width=\"24%\" />\n",
    "</colgroup>\n",
    "<thead valign=\"bottom\">\n",
    "<tr class=\"row-odd\"><th class=\"head\">Operation</th>\n",
    "<th class=\"head\">Result</th>\n",
    "<th class=\"head\">Notes</th>\n",
    "<th class=\"head\">Full documentation</th>\n",
    "</tr>\n",
    "</thead>\n",
    "<tbody valign=\"top\">\n",
    "<tr class=\"row-even\"><td><code class=\"docutils literal notranslate\"><span class=\"pre\">x</span> <span class=\"pre\">+</span> <span class=\"pre\">y</span></code></td>\n",
    "<td>sum of <em>x</em> and <em>y</em></td>\n",
    "<td>&#160;</td>\n",
    "<td>&#160;</td>\n",
    "</tr>\n",
    "<tr class=\"row-odd\"><td><code class=\"docutils literal notranslate\"><span class=\"pre\">x</span> <span class=\"pre\">-</span> <span class=\"pre\">y</span></code></td>\n",
    "<td>difference of <em>x</em> and <em>y</em></td>\n",
    "<td>&#160;</td>\n",
    "<td>&#160;</td>\n",
    "</tr>\n",
    "<tr class=\"row-even\"><td><code class=\"docutils literal notranslate\"><span class=\"pre\">x</span> <span class=\"pre\">*</span> <span class=\"pre\">y</span></code></td>\n",
    "<td>product of <em>x</em> and <em>y</em></td>\n",
    "<td>&#160;</td>\n",
    "<td>&#160;</td>\n",
    "</tr>\n",
    "<tr class=\"row-odd\"><td><code class=\"docutils literal notranslate\"><span class=\"pre\">x</span> <span class=\"pre\">/</span> <span class=\"pre\">y</span></code></td>\n",
    "<td>quotient of <em>x</em> and <em>y</em></td>\n",
    "<td>&#160;</td>\n",
    "<td>&#160;</td>\n",
    "</tr>\n",
    "<tr class=\"row-even\"><td><code class=\"docutils literal notranslate\"><span class=\"pre\">x</span> <span class=\"pre\">//</span> <span class=\"pre\">y</span></code></td>\n",
    "<td>floored quotient of <em>x</em> and\n",
    "<em>y</em></td>\n",
    "<td>(1)</td>\n",
    "<td>&#160;</td>\n",
    "</tr>\n",
    "<tr class=\"row-odd\"><td><code class=\"docutils literal notranslate\"><span class=\"pre\">x</span> <span class=\"pre\">%</span> <span class=\"pre\">y</span></code></td>\n",
    "<td>remainder of <code class=\"docutils literal notranslate\"><span class=\"pre\">x</span> <span class=\"pre\">/</span> <span class=\"pre\">y</span></code></td>\n",
    "<td>(2)</td>\n",
    "<td>&#160;</td>\n",
    "</tr>\n",
    "<tr class=\"row-even\"><td><code class=\"docutils literal notranslate\"><span class=\"pre\">-x</span></code></td>\n",
    "<td><em>x</em> negated</td>\n",
    "<td>&#160;</td>\n",
    "<td>&#160;</td>\n",
    "</tr>\n",
    "<tr class=\"row-odd\"><td><code class=\"docutils literal notranslate\"><span class=\"pre\">+x</span></code></td>\n",
    "<td><em>x</em> unchanged</td>\n",
    "<td>&#160;</td>\n",
    "<td>&#160;</td>\n",
    "</tr>\n",
    "<tr class=\"row-even\"><td><code class=\"docutils literal notranslate\"><span class=\"pre\">abs(x)</span></code></td>\n",
    "<td>absolute value or magnitude of\n",
    "<em>x</em></td>\n",
    "<td>&#160;</td>\n",
    "<td><a class=\"reference internal\" href=\"functions.html#abs\" title=\"abs\"><code class=\"xref py py-func docutils literal notranslate\"><span class=\"pre\">abs()</span></code></a></td>\n",
    "</tr>\n",
    "<tr class=\"row-odd\"><td><code class=\"docutils literal notranslate\"><span class=\"pre\">int(x)</span></code></td>\n",
    "<td><em>x</em> converted to integer</td>\n",
    "<td>(3)(6)</td>\n",
    "<td><a class=\"reference internal\" href=\"functions.html#int\" title=\"int\"><code class=\"xref py py-func docutils literal notranslate\"><span class=\"pre\">int()</span></code></a></td>\n",
    "</tr>\n",
    "<tr class=\"row-even\"><td><code class=\"docutils literal notranslate\"><span class=\"pre\">float(x)</span></code></td>\n",
    "<td><em>x</em> converted to floating point</td>\n",
    "<td>(4)(6)</td>\n",
    "<td><a class=\"reference internal\" href=\"functions.html#float\" title=\"float\"><code class=\"xref py py-func docutils literal notranslate\"><span class=\"pre\">float()</span></code></a></td>\n",
    "</tr>\n",
    "<tr class=\"row-odd\"><td><code class=\"docutils literal notranslate\"><span class=\"pre\">complex(re,</span> <span class=\"pre\">im)</span></code></td>\n",
    "<td>a complex number with real part\n",
    "<em>re</em>, imaginary part <em>im</em>.\n",
    "<em>im</em> defaults to zero.</td>\n",
    "<td>(6)</td>\n",
    "<td><a class=\"reference internal\" href=\"functions.html#complex\" title=\"complex\"><code class=\"xref py py-func docutils literal notranslate\"><span class=\"pre\">complex()</span></code></a></td>\n",
    "</tr>\n",
    "<tr class=\"row-even\"><td><code class=\"docutils literal notranslate\"><span class=\"pre\">c.conjugate()</span></code></td>\n",
    "<td>conjugate of the complex number\n",
    "<em>c</em></td>\n",
    "<td>&#160;</td>\n",
    "<td>&#160;</td>\n",
    "</tr>\n",
    "<tr class=\"row-odd\"><td><code class=\"docutils literal notranslate\"><span class=\"pre\">divmod(x,</span> <span class=\"pre\">y)</span></code></td>\n",
    "<td>the pair <code class=\"docutils literal notranslate\"><span class=\"pre\">(x</span> <span class=\"pre\">//</span> <span class=\"pre\">y,</span> <span class=\"pre\">x</span> <span class=\"pre\">%</span> <span class=\"pre\">y)</span></code></td>\n",
    "<td>(2)</td>\n",
    "<td><a class=\"reference internal\" href=\"functions.html#divmod\" title=\"divmod\"><code class=\"xref py py-func docutils literal notranslate\"><span class=\"pre\">divmod()</span></code></a></td>\n",
    "</tr>\n",
    "<tr class=\"row-even\"><td><code class=\"docutils literal notranslate\"><span class=\"pre\">pow(x,</span> <span class=\"pre\">y)</span></code></td>\n",
    "<td><em>x</em> to the power <em>y</em></td>\n",
    "<td>(5)</td>\n",
    "<td><a class=\"reference internal\" href=\"functions.html#pow\" title=\"pow\"><code class=\"xref py py-func docutils literal notranslate\"><span class=\"pre\">pow()</span></code></a></td>\n",
    "</tr>\n",
    "<tr class=\"row-odd\"><td><code class=\"docutils literal notranslate\"><span class=\"pre\">x</span> <span class=\"pre\">**</span> <span class=\"pre\">y</span></code></td>\n",
    "<td><em>x</em> to the power <em>y</em></td>\n",
    "<td>(5)</td>\n",
    "<td>&#160;</td>\n",
    "</tr>\n",
    "</tbody>\n",
    "</table>\n",
    "Notes:\n",
    "\n",
    "Also referred to as integer division. The resultant value is a whole integer, though the result’s type is not necessarily int. The result is always rounded towards minus infinity: 1//2 is 0, (-1)//2 is -1, 1//(-2) is -1, and (-1)//(-2) is 0.\n",
    "\n",
    "Not for complex numbers. Instead convert to floats using abs() if appropriate.\n",
    "\n",
    "Conversion from floating point to integer may round or truncate as in C; see functions math.floor() and math.ceil() for well-defined conversions.\n",
    "\n",
    "float also accepts the strings “nan” and “inf” with an optional prefix “+” or “-” for Not a Number (NaN) and positive or negative infinity.\n",
    "\n",
    "Python defines pow(0, 0) and 0 \\** 0 to be 1, as is common for programming languages.\n",
    "\n",
    "The numeric literals accepted include the digits 0 to 9 or any Unicode equivalent (code points with the Nd property).\n",
    "\n",
    "See http://www.unicode.org/Public/10.0.0/ucd/extracted/DerivedNumericType.txt for a complete list of code points with the Nd property.\n",
    "\n",
    "The source of above table is from https://docs.python.org/3/library/stdtypes.html"
   ]
  },
  {
   "cell_type": "markdown",
   "metadata": {},
   "source": [
    "# string\n",
    "String operating is absolutely a basic element in all kinds of programming languages.\n",
    "In Python, we put texts into quotes, '' or \"\", to form a string. \n",
    "It can also be seen as a sequence of characters, having the same usage of indexing and slicing just like list type. "
   ]
  },
  {
   "cell_type": "code",
   "execution_count": 18,
   "metadata": {},
   "outputs": [
    {
     "name": "stdout",
     "output_type": "stream",
     "text": [
      "Hello World!\n"
     ]
    }
   ],
   "source": [
    "str=\"Hello World!\"\n",
    "print(str)"
   ]
  },
  {
   "cell_type": "markdown",
   "metadata": {},
   "source": [
    "# common string methods\n",
    "- s.lower(), s.upper() -- returns the lowercase or uppercase version of the string\n",
    "- s.strip() -- returns a string with whitespace removed from the start and end\n",
    "- s.isalpha()/s.isdigit()/s.isspace()... -- tests if all the string chars are in the various character classes\n",
    "- s.startswith('other'), s.endswith('other') -- tests if the string starts or ends with the given other string\n",
    "- s.find('other') -- searches for the given other string (not a regular expression) within s, and returns the first index where it begins or -1 if not found\n",
    "- s.replace('old', 'new') -- returns a string where all occurrences of 'old' have been replaced by 'new'\n",
    "- s.split('delim') -- returns a list of substrings separated by the given delimiter. The delimiter is not a regular expression, it's just text. 'aaa,bbb,ccc'.split(',') -> ['aaa', 'bbb', 'ccc']. As a convenient special case s.split() (with no arguments) splits on all whitespace chars.\n",
    "- s.join(list) -- opposite of split(), joins the elements in the given list together using the string as the delimiter. e.g. '---'.join(['aaa', 'bbb', 'ccc']) -> aaa---bbb---ccc\n",
    "\n",
    "More detail in string methods: https://docs.python.org/3/library/stdtypes.html#string-methods"
   ]
  },
  {
   "cell_type": "markdown",
   "metadata": {},
   "source": [
    "# list\n",
    "list is an ordered sequence of items, and items in a list can be of different data types.\n",
    "\n",
    "Creating a list is very easy: just assign items within a bracket pair [ ].\n",
    "The syntax for accessing the items of a list is to specify the corresponding indices inside the brackets.\n",
    "Remember, the indexing in Python starts with 0 from left to right, and -1 from right to left.\n",
    "What's more, with expression by indices and colon symbol, slicing is an easy job in Python. If you omit the first index, the slice starts at the beginning, and vice versa."
   ]
  },
  {
   "cell_type": "code",
   "execution_count": 19,
   "metadata": {},
   "outputs": [
    {
     "name": "stdout",
     "output_type": "stream",
     "text": [
      "\n",
      " create a list \n",
      "\n",
      "[1, 2, 3, 4, 5]\n",
      "[1, 2.0, 3, 'four', 5]\n",
      "\n",
      " indexing \n",
      "\n",
      "four\n",
      "four\n",
      "\n",
      " data type \n",
      "\n",
      "False\n",
      "True\n",
      "\n",
      " list operations \n",
      "\n",
      "[1, 2, 3, 4, 5, 1, 2.0, 3, 'four', 5]\n",
      "[1, 2, 3, 4, 5, 'fourfourfourfour']\n",
      "[1, 2, 3, 4, 5, 20]\n",
      "\n",
      " list slicing \n",
      "\n",
      "[2.0, 3, 'four']\n",
      "[1, 2.0, 3]\n",
      "[1, 2.0, 3, 'four', 5]\n",
      "[2.0, 'four']\n",
      "\n",
      " some supplements \n",
      "\n",
      "o\n",
      "our\n",
      "Hello World!\n",
      "['H', 'e', 'l', 'l', 'o', ' ', 'W', 'o', 'r', 'l', 'd', '!']\n",
      "Hello World!\n"
     ]
    }
   ],
   "source": [
    "print(\"\\n create a list \\n\")\n",
    "example_list1=list()     #if you wanna create an empty list first without assigning any item, use list()\n",
    "example_list1=[1,2,3,4,5]\n",
    "example_list2=[1,2.0,3,\"four\",5]\n",
    "print(example_list1)\n",
    "print(example_list2)\n",
    "\"\"\" the above three statements are available \"\"\"\n",
    "\n",
    "print(\"\\n indexing \\n\")\n",
    "\"\"\"different way for indexing, but indicating the same item \"\"\"\n",
    "print(example_list2[3])\n",
    "print(example_list2[-2])\n",
    "\n",
    "\"\"\"remember the bool data type? \"\"\"\n",
    "print(\"\\n data type \\n\")\n",
    "print('four' in example_list1)\n",
    "print('four' in example_list2)\n",
    "\n",
    "\"\"\"list operations (+ operation is easy to understand its functionaloty, \n",
    "but * operator may result a surprise while processing different data type)\"\"\"\n",
    "print(\"\\n list operations \\n\")\n",
    "print(example_list1+example_list2)\n",
    "print(example_list1 + [example_list2[3]*4])\n",
    "print(example_list1 + [example_list2[4]*4])\n",
    "\n",
    "\"\"\" list slicing \"\"\"\n",
    "print(\"\\n list slicing \\n\")\n",
    "print(example_list2[1:4]) # here 1:4 means from index 1 and stop by 4, example_list2[4] is not included in the sliced list\n",
    "print(example_list2[:-2])\n",
    "print(example_list2[:])\n",
    "print(example_list2[1::2]) #return every second items from example_list2, commencing from the 1st item\n",
    "\n",
    "\"\"\" remember what I told you about string? you can also convert a string to a list of characters and join them as origin \"\"\"\n",
    "print(\"\\n some supplements \\n\")\n",
    "print(example_list2[3][1])\n",
    "print(example_list2[3][1:4])\n",
    "str2list=list(str)\n",
    "print(str)\n",
    "print(str2list)\n",
    "list2str=\"\".join(str2list)\n",
    "print(list2str)"
   ]
  },
  {
   "cell_type": "markdown",
   "metadata": {},
   "source": [
    "# Common list methods and functions\n",
    "## Method\n",
    "- append(x)  append the item x to the end of the list  \n",
    "- pop(x)    returns the x+1 th item from the list and deletes it as well; if no index is provided, it deletes and returns the last item\n",
    "- extend(x)    takes x as an argument and appends all of the elements \n",
    "- insert(i,x)    inserts the element x at the given index i, sifting elements to the right\n",
    "- remove(x)    removes the first item in the list that is equal to x\n",
    "- del    this operator can also be used to remove items; multiple items are available with a slice index\n",
    "- reverse()    reverses the order of the items in the list\n",
    "- sort(x)    sort the items in the list in ascending order (using reverse=True as parameter assignment for descending order)\n",
    "- index(x)    returns the index of first item that is equal to x\n",
    "- count(x)    return the number of items thatis equal to x\n",
    "\n",
    "## function\n",
    "- max(x)/min(x)    return the maximum/minimum value from list x\n",
    "- sum(x)    return the sum of the values of list x\n",
    "- len(x)    return the number of elements in list x\n",
    "- sorted(x) return a new sorted list but doesn't sort the list x\n",
    "\n"
   ]
  },
  {
   "cell_type": "code",
   "execution_count": 20,
   "metadata": {},
   "outputs": [
    {
     "name": "stdout",
     "output_type": "stream",
     "text": [
      "The content of example_list1 is [1, 2, 3, 4, 5]\n",
      "after applying example_list1.append(6), example_list1 -> [1, 2, 3, 4, 5, 6]\n",
      "after applying example_list1.pop(5), example_list1 -> [1, 2, 3, 4, 5]\n",
      "after applying example_list1.extend([7,7,8,9]), example_list1 -> [1, 2, 3, 4, 5, 7, 7, 8, 9]\n",
      "after applying example_list1.insert(5,6), example_list1 -> [1, 2, 3, 4, 5, 6, 7, 7, 8, 9]\n",
      "after applying example_list1.remove(7), example_list1 -> [1, 2, 3, 4, 5, 6, 7, 8, 9]\n",
      "after applying del example_list1[3], example_list1 -> [1, 2, 3, 5, 6, 7, 8, 9]\n",
      "after applying del example_list1[1:3], example_list1 -> [1, 5, 6, 7, 8, 9]\n",
      "after applying del example_list1, example_list1 becomes nonexist False \n",
      "\n",
      "reset example_list1 as [8, 3, 7, 9, 4, 2, 6, 4, 8, 10]\n",
      "after applying example_list1.reverse(), example_list1 -> [10, 8, 4, 6, 2, 4, 9, 7, 3, 8]\n",
      "after applying example_list1.sort(), example_list1 -> [2, 3, 4, 4, 6, 7, 8, 8, 9, 10]\n",
      "after applying example_list1.sort(reverse=True), example_list1 -> [10, 9, 8, 8, 7, 6, 4, 4, 3, 2]\n",
      "executing example_list1.index(3) returns 8\n",
      "executing example_list1.count(8) returns 2\n",
      "call max(example_list1), result would be 10\n",
      "call min(example_list1), result would be 2\n",
      "call len(example_list1), result would be 10\n",
      "call sorted(example_list1), result would be [2, 3, 4, 4, 6, 7, 8, 8, 9, 10]; but example_list is still [10, 9, 8, 8, 7, 6, 4, 4, 3, 2]\n"
     ]
    }
   ],
   "source": [
    "example_list1=[1, 2, 3, 4, 5]\n",
    "print(\"The content of example_list1 is {}\".format(example_list1))\n",
    "example_list1.append(6)\n",
    "print(\"after applying example_list1.append(6), example_list1 -> {}\".format(example_list1))\n",
    "example_list1.pop(5)\n",
    "print(\"after applying example_list1.pop(5), example_list1 -> {}\".format(example_list1))\n",
    "example_list1.extend([7,7,8,9])\n",
    "print(\"after applying example_list1.extend([7,7,8,9]), example_list1 -> {}\".format(example_list1))\n",
    "example_list1.insert(5,6)\n",
    "print(\"after applying example_list1.insert(5,6), example_list1 -> {}\".format(example_list1))\n",
    "example_list1.remove(7)\n",
    "print(\"after applying example_list1.remove(7), example_list1 -> {}\".format(example_list1))\n",
    "del example_list1[3]\n",
    "print(\"after applying del example_list1[3], example_list1 -> {}\".format(example_list1))\n",
    "del example_list1[1:3]\n",
    "print(\"after applying del example_list1[1:3], example_list1 -> {}\".format(example_list1))\n",
    "del example_list1\n",
    "print(\"after applying del example_list1, example_list1 becomes nonexist {} \\n\".format('example_list1' in locals()))\n",
    "\n",
    "example_list1=[8,3,7,9,4,2,6,4,8,10]\n",
    "print(\"reset example_list1 as {}\".format(example_list1))\n",
    "example_list1.reverse()\n",
    "print(\"after applying example_list1.reverse(), example_list1 -> {}\".format(example_list1))\n",
    "example_list1.sort()\n",
    "print(\"after applying example_list1.sort(), example_list1 -> {}\".format(example_list1))\n",
    "example_list1.sort(reverse=True)\n",
    "print(\"after applying example_list1.sort(reverse=True), example_list1 -> {}\".format(example_list1))\n",
    "print(\"executing example_list1.index(3) returns {}\".format(example_list1.index(3)))\n",
    "print(\"executing example_list1.count(8) returns {}\".format(example_list1.count(8)))\n",
    "\n",
    "\n",
    "\n",
    "print(\"call max(example_list1), result would be {}\".format(max(example_list1)))\n",
    "print(\"call min(example_list1), result would be {}\".format(min(example_list1)))\n",
    "print(\"call len(example_list1), result would be {}\".format(len(example_list1)))\n",
    "print(\"call sorted(example_list1), result would be {}; but example_list is still {}\".format(sorted(example_list1),example_list1))\n"
   ]
  },
  {
   "cell_type": "markdown",
   "metadata": {},
   "source": [
    "## nested list\n",
    "lists can also be included in another list\n",
    "carefully apply some methods and avoid misunderstanding its usage with a nested list"
   ]
  },
  {
   "cell_type": "code",
   "execution_count": 38,
   "metadata": {
    "scrolled": true
   },
   "outputs": [
    {
     "name": "stdout",
     "output_type": "stream",
     "text": [
      "[[1], [2, 2], [3, 3, 3]]\n",
      "[3, 3, 3]\n",
      "[3, 3]\n",
      "There are 3 items in list L, and 0 of them are equal to 2\n",
      "There are 2 items in list L[1], and 2 of them are equal to 2\n"
     ]
    }
   ],
   "source": [
    "L1=[1];L2=[2,2];L3=[3,3,3]\n",
    "\n",
    "L=[L1, L2, L3]\n",
    "print(L)\n",
    "print(L[2])\n",
    "print(L[2][1:3])\n",
    "\n",
    "\n",
    "print(\"There are {} items in list L, and {} of them are equal to 2\".format(len(L),L.count(2)))\n",
    "print(\"There are {} items in list L[1], and {} of them are equal to 2\".format(len(L[1]),L[1].count(2)))\n"
   ]
  },
  {
   "cell_type": "markdown",
   "metadata": {},
   "source": [
    "# tuple\n",
    "A tuple is similar to a list, but its elements cannot be changed after element assignment; whereas, if a nested tuple includes adjustable datatype like list, elements can be changed.\n",
    "Since a tuple is so similar to a list, we won't list examples for every function/method, and indexing/slicing as well."
   ]
  },
  {
   "cell_type": "code",
   "execution_count": 39,
   "metadata": {},
   "outputs": [
    {
     "name": "stdout",
     "output_type": "stream",
     "text": [
      "([1, 2, 3], [4, 5, 6], [7, 8, 9])\n",
      "([1, 2, 3], [4, 5, 6], [7, 8, 9])\n",
      "([1, 2, 3], [4, 5, 6], [3, 3, 3])\n",
      "([1, 2, 3], [4, 5, 6], [3, 3, 3, 3])\n"
     ]
    }
   ],
   "source": [
    "L1=[1,2,3];L2=[4,5,6];L3=[7,8,9]\n",
    "\n",
    "#option 1: assign a tuple includes three lists directly\n",
    "b=(L1,L2,L3) \n",
    "print(b) #([1, 2, 3], [4, 5, 6], [7, 8, 9])\n",
    "\n",
    "#option 2: convert a list into tuple\n",
    "b=()   #create an empty tuple, not necessary for the following statements if b is not in locals()\n",
    "b=[L1,L2,L3]\n",
    "b=tuple(b) \n",
    "print(b)\n",
    "\n",
    "#update the values of elements\n",
    "#b[2]=[3,3,3] #got error message\n",
    "b[2][:]=[3,3,3] #workable\n",
    "print(b)\n",
    "b[2][:]=[3,3,3,3] #even change the size of the list for b[2] is workable\n",
    "print(b)"
   ]
  },
  {
   "cell_type": "markdown",
   "metadata": {},
   "source": [
    "# Dictionary\n",
    "A dictionary is a collection which is unordered, changeable and indexed; a dictionary has a key: value pair. KEYs can be numeric, string, or mixed. We can assign key:value pairs as a dictionary by using curly braces {} or dict() for converting from a nested list. Value for the pair is not limited in a single item, it can be a list or otherwise as well.\n",
    "Performing list(d) on a dictionary returns a list of all the keys used in the dictionary.\n",
    "In order to efficiently create a dictionary, function zip() can be very useful in practice.\n",
    "Since the return data type of zip() is tuple, extra treatment is required if you need a changeable value in generated dictionary. More details of those built-in function zip() and map() can be found as follows:\n",
    "\n",
    "map(): https://www.programiz.com/python-programming/methods/built-in/map\n",
    "\n",
    "zip(): https://www.programiz.com/python-programming/methods/built-in/zip"
   ]
  },
  {
   "cell_type": "code",
   "execution_count": 77,
   "metadata": {},
   "outputs": [
    {
     "name": "stdout",
     "output_type": "stream",
     "text": [
      "[\"6'0\", 183]\n",
      "183\n",
      "['Lisa', 'John', 'James']\n",
      "{'Lisa': [\"5'2\", 157], 'John': [\"6'0\", 183], 7: [\"5'10\", 178]}\n",
      "{'Lisa': \"5'2\", 'John': \"6'0\", 'James': \"5'10\"}\n",
      "{'Lisa': [\"5'2\", 157], 'John': [\"6'0\", 183], 'James': [\"5'10\", 178]}\n",
      "{'Lisa': (\"5'2\", 157), 'John': (\"6'0\", 183), 'James': (\"5'10\", 178)}\n",
      "{'Lisa': [\"5'2\", 157], 'John': [\"6'0\", 183], 'James': [\"5'10\", 178]}\n"
     ]
    }
   ],
   "source": [
    "D={\"James\":\"5'10\",\"John\":\"6'0\",\"Lisa\":\"5'2\"}\n",
    "D={\"Jamese\":\"5'10\",\"John\":180,\"Lisa\":\"5'2\"}\n",
    "D={\"James\":[\"5'10\",178],\"John\":[\"6'0\",183],\"Lisa\":[\"5'2\",157]}\n",
    "print(D['John'])\n",
    "print(D['John'][1])\n",
    "print(list(D))\n",
    "D={7:[\"5'10\",178],\"John\":[\"6'0\",183],\"Lisa\":[\"5'2\",157]} #key can be interger or string\n",
    "print(D)\n",
    "\n",
    "#each item in list L can only be a tuple with two elements\n",
    "L=[(\"James\",\"5'10\"),(\"John\",\"6'0\"),(\"Lisa\",\"5'2\")] \n",
    "D=dict(L)\n",
    "print(D)\n",
    "L=[(\"James\",[\"5'10\",178]),(\"John\",[\"6'0\",183]),(\"Lisa\",[\"5'2\",157])]\n",
    "D=dict(L)\n",
    "print(D)\n",
    "\n",
    "inch=[\"5'10\",\"6'0\",\"5'2\"]\n",
    "cm=[178,183,157]\n",
    "name=[\"James\",\"John\",\"Lisa\"]\n",
    "height=zip(inch,cm)\n",
    "D=dict(zip(name, height))\n",
    "print(D)\n",
    "\n",
    "height=list(map(list, zip(inch,cm)))\n",
    "D=dict(zip(name, height))\n",
    "print(D)"
   ]
  },
  {
   "cell_type": "markdown",
   "metadata": {},
   "source": [
    "## Alternative of accessing elements from a dictionary\n",
    "Please note that if the key doesn't exist using get() will return None instead of KeyError"
   ]
  },
  {
   "cell_type": "code",
   "execution_count": 44,
   "metadata": {
    "scrolled": true
   },
   "outputs": [
    {
     "name": "stdout",
     "output_type": "stream",
     "text": [
      "[\"5'10\", 178]\n",
      "[\"5'10\", 178]\n",
      "None\n",
      "expired\n"
     ]
    }
   ],
   "source": [
    "L=[(\"James\",[\"5'10\",178]),(\"John\",[\"6'0\",183]),(\"Lisa\",[\"5'2\",157])]\n",
    "D=dict(L)\n",
    "\n",
    "print(D['James'])\n",
    "print(D.get('James'))\n",
    "\n",
    "#Try\n",
    "#print(D['james'])\n",
    "print(D.get('james'))\n",
    "print(D.get('james','expired'))"
   ]
  },
  {
   "cell_type": "markdown",
   "metadata": {},
   "source": [
    "# Common Dictionary methods and functions\n",
    "## Method\n",
    "- update(x) -- add key/value pairs to the dictionary; the value would be updated if key has existed \n",
    "- clear() --   remove all items from the dictionary\n",
    "- copy() --   return a shallow copy of the dictionary\n",
    "- fromkeys(s[,v])  --  return a new dictionay with keys from s [optional, and value equal to v]\n",
    "- get(key [,d])  --  return the value of key. If key doesn't exist, return none (optional, return d)\n",
    "- items() --   return a view object that displays a list of a given dictionary's (key, value) tuple pair.\n",
    "- keys()  --  return a new view of the dictionary's key\n",
    "- values()  --  return a new view of the dictionary's values\n",
    "- pop(key[, d]) --   remove the item with key and return corresponding value(s) or KeyError if key doesn't exist(optional, return d if it has been proveded)\n",
    "- popitem()  --  remove and return key/value pair. Raises KeyError if the dictionary is empty.\n",
    "- setdefault(key [,d]) --   insert key with value of d and return d (return None if d isn't provided); return corresponding value(s) if key is found in the dictionary.\n",
    "- del  --  this operator can also be used to remove a particular key/value pair or the whole dictionary\n",
    "\n",
    "\n",
    "## function\n",
    "- len()  --  return the number of elements in dictionary \n",
    "- cmp()  --  compare items of two dictionaries\n",
    "- sorted() -- return a new sorted list of keys in the dictionary"
   ]
  },
  {
   "cell_type": "code",
   "execution_count": 102,
   "metadata": {
    "scrolled": true
   },
   "outputs": [
    {
     "name": "stdout",
     "output_type": "stream",
     "text": [
      "{'James': [\"5'10\", 178], 'Jamie': [\"5'11\", 180], 'Mike': [\"5'1\", 155], 'Lisa': [\"5'2\", 157], 'John': [\"6'0\", 183]}\n",
      "{'John': [\"6'0\", 183], 'James': [\"5'10\", 178], 'Jamie': [\"5'11\", 180], 'Mike': [\"5'2\", 157], 'Lisa': [\"5'2\", 157]}\n",
      "{'c': None, 'e': None, 'b': None, 'a': None, 'd': None}\n",
      "{'c': [100], 'e': [100], 'b': [100], 'a': [100], 'd': [100]}\n",
      "{'c': [100, 200], 'e': [100, 200], 'b': [100, 200], 'a': [100, 200], 'd': [100, 200]}\n",
      "{'c': [100, 200], 'e': [100, 200], 'b': [100, 200], 'a': [100, 200], 'd': [100, 200]}\n",
      "{}\n",
      "{'c': [100, 200], 'b': [100, 200], 'a': [100, 200], 'd': [100, 200]}\n",
      "dict_keys(['John', 'James', 'Jamie', 'Mike', 'Lisa'])\n",
      "dict_items([('John', [\"6'0\", 183]), ('James', [\"5'10\", 178]), ('Jamie', [\"5'11\", 180]), ('Mike', [\"5'2\", 157]), ('Lisa', [\"5'2\", 157])])\n",
      "dict_items([('John', [\"6'0\", 183]), ('James', [\"5'10\", 178]), ('Jamie', [\"5'11\", 180]), ('Mike', [\"5'2\", 157]), ('Lisa', [\"5'2\", 157])])\n",
      "dict_items([('James', [\"5'10\", 178]), ('Jamie', [\"5'11\", 180]), ('Mike', [\"5'2\", 157]), ('Lisa', [\"5'2\", 157])])\n",
      "{'James': [\"5'10\", 178], 'Jamie': [\"5'11\", 180], 'Mike': [\"5'2\", 157], 'Lisa': [\"5'2\", 157]}\n",
      "[('James', [\"5'10\", 178]), ('Jamie', [\"5'11\", 180]), ('Mike', [\"5'2\", 157]), ('Lisa', [\"5'2\", 157])]\n",
      "[\"5'10\", 178]\n",
      "{'Jamie': [\"5'11\", 180], 'Mike': [\"5'2\", 157], 'Lisa': [\"5'2\", 157]}\n",
      "no such person\n",
      "('Jamie', [\"5'11\", 180])\n",
      "{'Mike': [\"5'2\", 157], 'Lisa': [\"5'2\", 157]}\n",
      "('Mike', [\"5'2\", 157])\n",
      "{'Lisa': [\"5'2\", 157]}\n",
      "('Lisa', [\"5'2\", 157])\n",
      "{}\n",
      "{'c': [100, 200], 'b': [100, 200], 'a': [100, 200], 'd': [100, 200]}\n",
      "[100, 200]\n",
      "{'c': [100, 200], 'b': [100, 200], 'a': [100, 200], 'd': [100, 200]}\n",
      "[100, 100]\n",
      "{'a': [100, 200], 'd': [100, 200], 'c': [100, 200], 'e': [100, 100], 'b': [100, 200]}\n",
      "None\n",
      "{'f': None, 'a': [100, 200], 'd': [100, 200], 'c': [100, 200], 'e': [100, 100], 'b': [100, 200]}\n",
      "['a', 'b', 'c', 'd', 'e', 'f']\n"
     ]
    }
   ],
   "source": [
    "L=[(\"James\",[\"5'10\",178]),(\"John\",[\"6'0\",183]),(\"Lisa\",[\"5'2\",157])]\n",
    "D=dict(L)\n",
    "\n",
    "D.update({\"Mike\":[\"5'1\",155],\"Jamie\":[\"5'11\",180]})\n",
    "print(D)\n",
    "D.update(Mike=[\"5'2\",157],Jamie=[\"5'11\",180])\n",
    "print(D)\n",
    "k={'a','b','c','d','e'}\n",
    "v=[100]\n",
    "D1=dict.fromkeys(k)\n",
    "D2=dict.fromkeys(k,v)\n",
    "print(D1)\n",
    "print(D2)\n",
    "v.append(200)\n",
    "print(D2)\n",
    "\n",
    "D1=dict.copy(D2)\n",
    "print(D1)\n",
    "D1.clear()\n",
    "print(D1)\n",
    "del D2['e']\n",
    "print(D2)\n",
    "\n",
    "print(D.keys())\n",
    "print(D.items())\n",
    "D1=D.items()\n",
    "print(D1)\n",
    "del D['John']\n",
    "print(D1)\n",
    "\n",
    "#dict_items and dict_keys can be transferred into dictionary or list\n",
    "print(dict(D.items()))\n",
    "print(list(D.items()))\n",
    "\n",
    "\n",
    "D1=D.pop('James')\n",
    "print(D1)\n",
    "print(D)\n",
    "'''May raise KeyError\n",
    "D1=D.pop('James')\n",
    "print(D1) \n",
    "'''\n",
    "D1=D.pop('James','no such person')\n",
    "print(D1)\n",
    "\n",
    "D1=D.popitem()\n",
    "print(D1)\n",
    "print(D)\n",
    "D1=D.popitem()\n",
    "print(D1)\n",
    "print(D)\n",
    "D1=D.popitem()\n",
    "print(D1)\n",
    "print(D)\n",
    "#D1=D.popitem()\n",
    "#print(D)\n",
    "\n",
    "\n",
    "print(D2)\n",
    "print(D2.setdefault('c'))\n",
    "print(D2)\n",
    "\n",
    "print(D2.setdefault('e',[100,100]))\n",
    "print(D2)\n",
    "print(D2.setdefault('f'))\n",
    "print(D2)\n",
    "\n",
    "print(sorted(D2))"
   ]
  },
  {
   "cell_type": "markdown",
   "metadata": {},
   "source": [
    "# set\n",
    "a set is an non-ordered collection of items, but each element is unique and immutable.\n",
    "But set itself is mutable: you can add and remove items. \n",
    "Integer, float,tuple, and string are allowed for items in a set; mutable objects are not, such as list, dictionary.\n",
    "Set operations like union, intersection, difference and symmetric difference can be very useful while implementing some algorithms with mathematical set description.\n",
    "![](set_operations.png)"
   ]
  },
  {
   "cell_type": "code",
   "execution_count": 96,
   "metadata": {},
   "outputs": [
    {
     "name": "stdout",
     "output_type": "stream",
     "text": [
      "{1, 2, 3, 4, 5}\n",
      "{3, 4, 5, 6, 7}\n",
      "A|B= {1, 2, 3, 4, 5, 6, 7}\n",
      "A.union(B)= {1, 2, 3, 4, 5, 6, 7}\n",
      "A&B= {3, 4, 5}\n",
      "{3, 4, 5}\n",
      "A-B= {1, 2}\n",
      "B-A= {6, 7}\n",
      "{1, 2}\n",
      "A^B= {1, 2, 3, 4, 5, 6, 7}\n",
      "{1, 2, 3, 4, 5, 6, 7}\n"
     ]
    }
   ],
   "source": [
    "def init_AB():\n",
    "    global A\n",
    "    global B\n",
    "    A={1,2,3,4,5}\n",
    "    B={3,4,5,6,7}\n",
    "\n",
    "\n",
    "A={1,2,3,4,5}\n",
    "print(A)  #{1, 2, 3, 4, 5}\n",
    "B=[3,4,5,6,7]\n",
    "B=set(B)\n",
    "print(B)   #{3, 4, 5, 6, 7}\n",
    "\n",
    "\n",
    "#Union (using | or mehtod union()) \n",
    "print('A|B=',A|B)   #A|B= {1, 2, 3, 4, 5, 6, 7}\n",
    "print('A.union(B)=',A.union(B))  #A.union(B)= {1, 2, 3, 4, 5, 6, 7}\n",
    "\n",
    "\n",
    "#intersection (using & or intersection())\n",
    "print('A&B=',A&B)   # A&B= {3, 4, 5}\n",
    "A.intersection_update(B) # let A become the result of A&B\n",
    "print(A)   #{3, 4, 5}\n",
    "init_AB()\n",
    "\n",
    "#difference (using - or difference())\n",
    "print('A-B=',A-B)    #A-B= {1, 2}\n",
    "print('B-A=',B-A)   #B-A= {6, 7}\n",
    "A.difference_update(B) # let A become the result of A-B\n",
    "print(A) #{1, 2}\n",
    "#symmetric difference (using ^ or symmetric_diffrence())\n",
    "print('A^B=',A^B)  #A^B= {1, 2, 3, 4, 5, 6, 7}\n",
    "A.symmetric_difference_update(B) # let A become the result of A^B\n",
    "print(A)  #{1, 2, 3, 4, 5, 6, 7}"
   ]
  },
  {
   "cell_type": "markdown",
   "metadata": {},
   "source": [
    "# common set methods and functions\n",
    "## methods\n",
    "- add(x) -- add element x to the set (since any element in a set is unique, this method doesn't add an element to the set if it's already in it)\n",
    "- pop() -- remove and return an arbitary set element. Raise KeyError if the set is empty\n",
    "- remove() -- remove an element from a set; *raise KeyError* if the element is not found\n",
    "- discard(x) -- remove element x from the set if it is found; otherwise, *do nothing*\n",
    "- update() -- update a set with the union of  itself and others\n",
    "- clear() -- remove all elements from the set\n",
    "- copy() -- return a shallow copy of the set\n",
    "- isdisjoint() -- return True if two sets have a null intersection\n",
    "- issubset() -- return True if another set contains this set\n",
    "- issuperset() -- return True if this set contains another set\n",
    "- diffrence_update() -- remove all elements of another ser from this set\n",
    "- intersection_update() -- update the set with the intersection of itself and another\n",
    "- symmetric_diffrence() -- return the symmetric difference of two sets as a new set\n",
    "- symmetric_difference_update() -- update a set with the symmetric difference of itself and another\n",
    "\n",
    "## functions\n",
    "- all() -- return True if all elements of the set are true\n",
    "- any() -- return True if any element of the set is true\n",
    "- len() -- return the number of items in the set\n",
    "- max()/min() -- return the largest/smallest item in the set\n",
    "- sorted() -- return a new sorted list\n",
    "- sum() -- return the sum of all elements in the set"
   ]
  },
  {
   "cell_type": "code",
   "execution_count": 99,
   "metadata": {},
   "outputs": [
    {
     "name": "stdout",
     "output_type": "stream",
     "text": [
      "{1, 2, 3, 4, 5, 6}\n",
      "{1, 2, 3, 4, 5, 6, (7, 8)}\n",
      "8 4\n",
      "{5, 6, 7}\n",
      "{5, 7}\n",
      "A= {1, 2, 3, 4, 5, 6, 7, 8}  and B= {8, 4, 5, 6, 7}\n",
      "set()\n",
      "A= {1, 2, 3, 4} B= {1, 2, 3, 4, 5, 6, 7, 8} C= {1, 2, 3, 4}\n",
      "{1, 3, 4}\n",
      "True\n",
      "True\n",
      "True\n",
      "True\n"
     ]
    }
   ],
   "source": [
    "def init_AB():\n",
    "    global A\n",
    "    global B\n",
    "    A={1,2,3,4,5}\n",
    "    B={4,5,6,7,8}\n",
    "\n",
    "init_AB()\n",
    "A.add(6)\n",
    "print(A)    #{1, 2, 3, 4, 5, 6}\n",
    "A.add((7,8))\n",
    "print(A)\n",
    "init_AB() #call this function to reset the value of set A and B\n",
    "\n",
    "print(B.pop(),B.pop())   #8 4 \n",
    "print(B)    #{5, 6, 7}\n",
    "B.remove(6)\n",
    "print(B)    #{5, 7}\n",
    "init_AB()\n",
    "\n",
    "A.update(B)\n",
    "print('A=',A,\" and B=\",B) # A= {1, 2, 3, 4, 5, 6, 7, 8}  and B= {8, 4, 5, 6, 7}\n",
    "B.clear()\n",
    "print(B)   #set()\n",
    "B=A.copy()\n",
    "C=A\n",
    "A.remove(8);A.remove(7);A.remove(6);A.remove(5)\n",
    "print('A=',A,'B=', B,'C=',C) # A= {1, 2, 3, 4} B= {1, 2, 3, 4, 5, 6, 7, 8} C= {1, 2, 3, 4}\n",
    "A.discard(2)\n",
    "print(A)  #{1, 3, 4}\n",
    "init_AB()\n",
    "\n",
    "\n",
    "A.update(B)\n",
    "C={9,10,11}\n",
    "print(C.isdisjoint(A))  #True\n",
    "print(B.issubset(A))   #True\n",
    "print(A.issuperset(B))   #True\n"
   ]
  },
  {
   "cell_type": "code",
   "execution_count": null,
   "metadata": {},
   "outputs": [],
   "source": []
  }
 ],
 "metadata": {
  "kernelspec": {
   "display_name": "Python 3",
   "language": "python",
   "name": "python3"
  },
  "language_info": {
   "codemirror_mode": {
    "name": "ipython",
    "version": 3
   },
   "file_extension": ".py",
   "mimetype": "text/x-python",
   "name": "python",
   "nbconvert_exporter": "python",
   "pygments_lexer": "ipython3",
   "version": "3.5.5"
  }
 },
 "nbformat": 4,
 "nbformat_minor": 1
}
