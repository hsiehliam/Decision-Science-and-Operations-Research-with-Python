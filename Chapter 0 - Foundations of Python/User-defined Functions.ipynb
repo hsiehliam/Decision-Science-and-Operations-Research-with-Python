{
 "cells": [
  {
   "cell_type": "markdown",
   "metadata": {},
   "source": [
    "In order to organize your code with some repeating requirements, calling functions can be quite efficiently. Other than those built-in function, you can also create your own user-defined functions. The basic syntax of Function is:\n",
    "\n",
    "    def function_name(parameters):\n",
    "        \"\"\"docstring\"\"\"\n",
    "        statement(s)\n",
    "    \n",
    "        return return_value\n",
    "\n",
    "Return statement is an option since the return value is not always necessary. Also the docstring, short remark for this function, in between triple double quotes is optional. Docstring is available to us as \\__doc\\__ attribute of the function.\n",
    "Multiple input is allowed and using list or tuple can implement various returns. "
   ]
  },
  {
   "cell_type": "code",
   "execution_count": 8,
   "metadata": {},
   "outputs": [
    {
     "name": "stdout",
     "output_type": "stream",
     "text": [
      "130\n",
      "Rerurn the summary amount of input values\n"
     ]
    }
   ],
   "source": [
    "def sum(X):\n",
    "    \"\"\"Rerurn the summary amount of input values\"\"\"\n",
    "    total_amount=0\n",
    "    for x in X:\n",
    "        total_amount+=x\n",
    "    \n",
    "    return total_amount\n",
    "\n",
    "test=[15,45,10,5,30,25]\n",
    "sum_test=sum(test)\n",
    "print(sum_test)\n",
    "print(sum.__doc__)\n",
    "#print(total_amount) #NameError: name 'total_amount' is not defined"
   ]
  },
  {
   "cell_type": "markdown",
   "metadata": {},
   "source": [
    "# Nested function\n",
    "A function can also be inside of another function, the syntax would be:\n",
    "\n",
    "    def outer(outer_parameters):\n",
    "        statement(s)\n",
    "        def inner(inner_parameters):\n",
    "            statement(s)\n",
    "        return return_value    "
   ]
  },
  {
   "cell_type": "code",
   "execution_count": 11,
   "metadata": {},
   "outputs": [
    {
     "name": "stdout",
     "output_type": "stream",
     "text": [
      "[6, 15, 24]\n"
     ]
    }
   ],
   "source": [
    "def array_sum(Xs):\n",
    "\n",
    "    def sum(X):\n",
    "        total_amount=0\n",
    "        for x in X:\n",
    "            total_amount+=x\n",
    "    \n",
    "        return total_amount\n",
    "    \n",
    "    return [sum(x) for x in Xs]\n",
    "\n",
    "print(array_sum(([1,2,3],[4,5,6],[7,8,9])))"
   ]
  },
  {
   "cell_type": "markdown",
   "metadata": {},
   "source": [
    "# Using a function as the return value"
   ]
  },
  {
   "cell_type": "code",
   "execution_count": 30,
   "metadata": {},
   "outputs": [
    {
     "name": "stdout",
     "output_type": "stream",
     "text": [
      "(6, 15)\n"
     ]
    }
   ],
   "source": [
    "def first_n_sum(n):\n",
    "\n",
    "    def sum(X):\n",
    "        total_amount=0\n",
    "        for i in range(n):\n",
    "            total_amount+=X[i]\n",
    "    \n",
    "        return total_amount\n",
    "    \n",
    "    return sum\n",
    "\n",
    "test_data=(1,2,3,4,5,6)\n",
    "first_three=first_n_sum(3)\n",
    "first_five=first_n_sum(5)\n",
    "print((first_three(test_data),first_five(test_data)))"
   ]
  },
  {
   "cell_type": "markdown",
   "metadata": {},
   "source": [
    "# global and nonlocal\n",
    "Keyword *global* can let you modify the variable outside of the function. Once a global variable is created, it can be changed in a local scope; similiarly, *nonlocal* allows modifying in outer function. Remember the search sequence is local scope->enclosing function->global\n",
    "\n",
    "### global:"
   ]
  },
  {
   "cell_type": "code",
   "execution_count": 25,
   "metadata": {
    "scrolled": true
   },
   "outputs": [
    {
     "name": "stdout",
     "output_type": "stream",
     "text": [
      "2\n",
      "1\n",
      "1\n"
     ]
    }
   ],
   "source": [
    "n=10\n",
    "def outer():\n",
    "    global n \n",
    "    n=1\n",
    "    def inner():\n",
    "           \n",
    "        n=2\n",
    "        print(n)\n",
    "    \n",
    "    inner()\n",
    "    print(n)\n",
    "outer()\n",
    "print(n)    "
   ]
  },
  {
   "cell_type": "markdown",
   "metadata": {},
   "source": [
    "### nonlocal"
   ]
  },
  {
   "cell_type": "code",
   "execution_count": 29,
   "metadata": {},
   "outputs": [
    {
     "name": "stdout",
     "output_type": "stream",
     "text": [
      "2\n",
      "2\n",
      "10\n"
     ]
    }
   ],
   "source": [
    "n=10\n",
    "def outer():\n",
    "    \n",
    "    n=1\n",
    "    def inner():\n",
    "        nonlocal n   \n",
    "        n=2\n",
    "        print(n)\n",
    "    \n",
    "    inner()\n",
    "    print(n)\n",
    "outer()\n",
    "print(n)  "
   ]
  },
  {
   "cell_type": "markdown",
   "metadata": {},
   "source": [
    "# Default arguments\n",
    "Just assign the default value to the argument with ="
   ]
  },
  {
   "cell_type": "code",
   "execution_count": 32,
   "metadata": {},
   "outputs": [
    {
     "name": "stdout",
     "output_type": "stream",
     "text": [
      "(10, 10)\n"
     ]
    }
   ],
   "source": [
    "def first_n_sum(n=4):\n",
    "\n",
    "    def sum(X):\n",
    "        total_amount=0\n",
    "        for i in range(n):\n",
    "            total_amount+=X[i]\n",
    "    \n",
    "        return total_amount\n",
    "    \n",
    "    return sum\n",
    "\n",
    "test_data=(1,2,3,4,5,6)\n",
    "default=first_n_sum()\n",
    "first_four=first_n_sum(4)\n",
    "print((default(test_data),first_four(test_data)))"
   ]
  },
  {
   "cell_type": "markdown",
   "metadata": {},
   "source": [
    "# Flexible arguments\n",
    "In the beginning, the case of function sum(), even though the argument X can be a list, the input of this function is single argument. There is a way to pass a variable number of arguments to a function: put asterisk (\\*) or double asterisk (\\*\\*) in front of the argument. The single asterisk form is used to pass a non-keyworded, variable-length argument list, and the double asterisk form is used to pass a keyworded, variable-length argument list."
   ]
  },
  {
   "cell_type": "code",
   "execution_count": 36,
   "metadata": {},
   "outputs": [
    {
     "name": "stdout",
     "output_type": "stream",
     "text": [
      "130\n"
     ]
    }
   ],
   "source": [
    "def sum(*X):\n",
    "    \"\"\"Rerurn the summary amount of input values\"\"\"\n",
    "    total_amount=0\n",
    "    for x in X:\n",
    "        total_amount+=x\n",
    "    \n",
    "    return total_amount\n",
    "\n",
    "#test=[15,45,10,5,30,25]\n",
    "#sum_test=sum(test)\n",
    "sum_test=sum(15,45,10,5,30,25)  #it actually accepts six parameters\n",
    "\n",
    "print(sum_test)         #130"
   ]
  },
  {
   "cell_type": "code",
   "execution_count": null,
   "metadata": {
    "collapsed": true
   },
   "outputs": [],
   "source": []
  }
 ],
 "metadata": {
  "kernelspec": {
   "display_name": "Python 3",
   "language": "python",
   "name": "python3"
  },
  "language_info": {
   "codemirror_mode": {
    "name": "ipython",
    "version": 3
   },
   "file_extension": ".py",
   "mimetype": "text/x-python",
   "name": "python",
   "nbconvert_exporter": "python",
   "pygments_lexer": "ipython3",
   "version": "3.5.5"
  }
 },
 "nbformat": 4,
 "nbformat_minor": 2
}
