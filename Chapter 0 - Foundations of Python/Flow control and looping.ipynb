{
 "cells": [
  {
   "cell_type": "markdown",
   "metadata": {},
   "source": [
    "# Flow control and looping"
   ]
  },
  {
   "cell_type": "markdown",
   "metadata": {},
   "source": [
    "*If...else* statement can be found in most mainstream programming languages to control the flow of your program's execution. With your predescribed conditions, your program is capable of handling different circumstances by corresponding treatment.\n",
    "The basic syntax is:\n",
    "\n",
    "        if condition_expression:\n",
    "            statement(s)\n",
    "        elif condition_expression:\n",
    "            statement(s) \n",
    "        else:\n",
    "            statement(s)\n",
    "            \n",
    "Both elif and else are optional and multiple elif is allowed; it also provides short hand syntax for that:\n",
    "\n",
    "        if condition_expression: statement\n",
    "or\n",
    "\n",
    "        statement if condition_expression else statement\n",
    "\n",
    "\n",
    "Remember it, there is no curly-brackets in Python syntax for that and go checking the indentation if errors happened.\n",
    "Nested *if...else* is allowed that is using *if...else* as a response statement while a particular condition_expression is true.\n",
    "In order to judge the logical conditions from mathematics, Python uses the following symbols:\n",
    "- Equals: a==b\n",
    "- Not equals: a!=b\n",
    "- Less than or equal to: a<=b\n",
    "- Less than: a<b\n",
    "- Greater than or equal to: a>=b\n",
    "- great than: a>b\n",
    "\n",
    "Some logical operators can let you make a complex condition_expression by combining saveral simple ones:\n",
    "- *and* :  expression1 and expression2\n",
    "- *or* :  expression1 or expression2"
   ]
  },
  {
   "cell_type": "code",
   "execution_count": 43,
   "metadata": {},
   "outputs": [
    {
     "name": "stdout",
     "output_type": "stream",
     "text": [
      "extra English class\n",
      "extra class\n",
      "extra class\n",
      "extra class\n"
     ]
    }
   ],
   "source": [
    "math=4\n",
    "english=3\n",
    "\n",
    "if english < 4:\n",
    "    print('extra English class')\n",
    "#output>>extra English class\n",
    "    \n",
    "    \n",
    "# Any subject less than 4 should have extra class\n",
    "#option 1\n",
    "if english < 4 or math <4:\n",
    "    print('extra class')\n",
    "#output>>extra class\n",
    "    \n",
    "#option 2    \n",
    "if english<4:\n",
    "    print('extra class')\n",
    "elif math<4:        \n",
    "    print('extra class')\n",
    "#output>>extra class    \n",
    "\n",
    "print('extra class') if english<4 or math<4 else print('go playing your video game')      \n",
    "#output>>extra class"
   ]
  },
  {
   "cell_type": "markdown",
   "metadata": {},
   "source": [
    "# for and while Loop\n",
    "## for Loop\n",
    "The for loop is applied for iterating over a iterable objects or traversal like we usually do in C/C++.\n",
    "The basic syntax is:\n",
    "\n",
    "        for val in sequence:\n",
    "            content of this loop\n",
    "        else:\n",
    "            statement for else part\n",
    "            \n",
    "First of all, *else* part is just optional and rarely used.\n",
    "*sequence* can be a iterable object such as list or string, or a range() function.\n",
    "You can generate numbers from 0 to 9 by using range(10) or range(0,10,1)  (start=0, end by=10, step size=1)"
   ]
  },
  {
   "cell_type": "code",
   "execution_count": 4,
   "metadata": {},
   "outputs": [
    {
     "name": "stdout",
     "output_type": "stream",
     "text": [
      "[0, 1, 2, 3, 4, 5, 6, 7, 8, 9]\n",
      "[0, 1, 2, 3, 4, 5, 6, 7, 8, 9]\n",
      "[0, 1, 2, 3, 4, 5, 6, 7, 8, 9]\n",
      "[0, 1, 2, 3, 4, 5, 6, 7, 8, 9]\n"
     ]
    }
   ],
   "source": [
    "# The following three loops come out the same result: print numbers from 0 to 9 sequentially\n",
    "re=[]\n",
    "for i in range(10):\n",
    "    re.append(i)  \n",
    "print(re)\n",
    "\n",
    "re.clear()\n",
    "for i in range(0,10,1):\n",
    "    re.append(i) \n",
    "print(re)\n",
    "    \n",
    "a=list(range(10))\n",
    "print(a)\n",
    "\n",
    "re.clear()\n",
    "for i in a:\n",
    "    re.append(i)\n",
    "print(re)"
   ]
  },
  {
   "cell_type": "markdown",
   "metadata": {},
   "source": [
    "## while Loop\n",
    "The while loop is applied for iterating over a section of code until the testing condition is satisfied (being True). For those cases that you don't know an exact number of iterations for the repeating jobs, while loop might be a good choice.\n",
    "The basic syntax is:\n",
    "\n",
    "        while testing_condition:\n",
    "            statement(S) for while loop\n",
    "        else:\n",
    "            statement for else part\n",
    "            \n",
    "The condition will be checked first, and any  <font style=\"BACKGROUND-COLOR: #D3D3D3\">non-zero</font> value would be considerred as *True*; also, <font style=\"BACKGROUND-COLOR: #D3D3D3\">None</font> and  <font style=\"BACKGROUND-COLOR: #D3D3D3\">0</font> are interpreted as *False*. Same as for loop, the *else* part is optional and only execute once while the testing condition is False. "
   ]
  },
  {
   "cell_type": "code",
   "execution_count": 9,
   "metadata": {},
   "outputs": [
    {
     "name": "stdout",
     "output_type": "stream",
     "text": [
      "[1, 2, 3, 4, 5, 6, 7, 8, 9]\n"
     ]
    }
   ],
   "source": [
    "re=[]\n",
    "n=10;i=1\n",
    "\n",
    "while i<n:\n",
    "    re.append(i)\n",
    "    i=i+1 #(can also be expressed by i+=1)\n",
    "print(re)    "
   ]
  },
  {
   "cell_type": "markdown",
   "metadata": {},
   "source": [
    "# break, continue, and pass\n",
    "*Break* can apllied for both for and while loop, you just put it in the statement (often found with if statement) and it will redirect your program to the outisde of the loop. In contrast to *break*, *contiune* will keep your program to stay in the loop. Finally, if you are looking for a statement which is going to do nothing, using *pass*."
   ]
  },
  {
   "cell_type": "code",
   "execution_count": 10,
   "metadata": {},
   "outputs": [
    {
     "name": "stdout",
     "output_type": "stream",
     "text": [
      "i has been 3\n",
      "i becomes 6  now, let's take a break!\n",
      "[0, 1, 2, 3, 4, 5, 6]\n"
     ]
    }
   ],
   "source": [
    "re=[]\n",
    "for i in range(10):\n",
    "    re.append(i)\n",
    "    if i==6: \n",
    "        print(\"i becomes\",i,\" now, let's take a break!\")  \n",
    "        break\n",
    "    elif i==3:    \n",
    "        print('i has been 3')\n",
    "        pass\n",
    "    else:\n",
    "        continue\n",
    "        \n",
    "print(re)        "
   ]
  },
  {
   "cell_type": "markdown",
   "metadata": {},
   "source": [
    "# Iterating through tuple, list, string, and dictionary\n",
    "*enumerate()* is a very useful function we have to introduce in this part. It returns an enumerate object. It contains the index and value of all the items as a tuple."
   ]
  },
  {
   "cell_type": "code",
   "execution_count": 47,
   "metadata": {},
   "outputs": [
    {
     "name": "stdout",
     "output_type": "stream",
     "text": [
      "Result of Case 1:  ['a', 'b', 'c', 'd']\n",
      "Result of Case 2:  [(0, 'a'), (1, 'b'), (2, 'c'), (3, 'd')]\n",
      "Result of Case 4:  [(0, 'a'), (1, 'b'), (2, 'c'), (3, 'd')]\n",
      "Result of Case 5:  [(0, 0), (1, 1), (2, 2), (3, 3)]\n",
      "Result of Case 6:  [(0, 'a'), (1, 'b'), (2, 'c'), (3, 'd')]\n"
     ]
    }
   ],
   "source": [
    "S='abcd'\n",
    "T=('a','b','c','d')\n",
    "L=['a','b','c','d']\n",
    "D=dict(zip(range(4),L))   \n",
    "\n",
    "# the following example adopts for sring, list, and tuple\n",
    "# all the outputs are all the same\n",
    "\n",
    "res=[]\n",
    "#Case 1\n",
    "for i in S:\n",
    "    res.append(i)\n",
    "print('Result of Case 1: ', res)\n",
    "res.clear()\n",
    "#Case 2\n",
    "for i in enumerate(S):\n",
    "    res.append(i)\n",
    "print('Result of Case 2: ', res)\n",
    "res.clear()\n",
    "    \n",
    "# for dictionary\n",
    "#Case 4\n",
    "for i in D:\n",
    "    res.append((i,D[i]))\n",
    "print('Result of Case 4: ',res)\n",
    "res.clear()\n",
    "\n",
    "#Case 5\n",
    "for i in enumerate(D): #be carefull! enumerate() will pair keys and index\n",
    "    res.append(i)\n",
    "print('Result of Case 5: ',res)\n",
    "res.clear()\n",
    "\n",
    "#Case 6\n",
    "for i in D.items():\n",
    "    res.append(i)\n",
    "print('Result of Case 6: ',res)\n",
    "\n",
    "    "
   ]
  },
  {
   "cell_type": "code",
   "execution_count": null,
   "metadata": {},
   "outputs": [],
   "source": []
  }
 ],
 "metadata": {
  "kernelspec": {
   "display_name": "Python 3",
   "language": "python",
   "name": "python3"
  },
  "language_info": {
   "codemirror_mode": {
    "name": "ipython",
    "version": 3
   },
   "file_extension": ".py",
   "mimetype": "text/x-python",
   "name": "python",
   "nbconvert_exporter": "python",
   "pygments_lexer": "ipython3",
   "version": "3.5.5"
  }
 },
 "nbformat": 4,
 "nbformat_minor": 2
}
